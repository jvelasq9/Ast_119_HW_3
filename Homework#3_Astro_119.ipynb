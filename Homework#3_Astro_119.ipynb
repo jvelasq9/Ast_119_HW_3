{
 "cells": [
  {
   "cell_type": "markdown",
   "metadata": {},
   "source": [
    "#### f(x) vs x as a line\n",
    "    lim: x[0,3] & y[-0.5,2.1]\n",
    "    Add horizontal line at z= 0 \n",
    "    Plot f(x) at a 1000 evenly spaced values of x=[0,3]\n",
    "    \n",
    "# f(x) = 1.01x^2 - 3.04x + 2.07"
   ]
  },
  {
   "cell_type": "code",
   "execution_count": null,
   "metadata": {},
   "outputs": [],
   "source": [
    "%matplotlib inline\n",
    "import numpy as np\n",
    "import matplotlib.pyplot as plt"
   ]
  },
  {
   "cell_type": "code",
   "execution_count": null,
   "metadata": {},
   "outputs": [],
   "source": [
    "def function_for_roots(x):\n",
    "    a = 1.01\n",
    "    b = -3.04\n",
    "    c = 2.07\n",
    "    return a*x**2 + b*x + c  #our function"
   ]
  },
  {
   "cell_type": "code",
   "execution_count": null,
   "metadata": {},
   "outputs": [],
   "source": [
    "def check_initial_values(f,x_min,x_max,tol):\n",
    "    \n",
    "    y_min = f(x_min)\n",
    "    y_max = f(x_max)\n",
    "    \n",
    "    if(y_min*y_max>=0.0):\n",
    "        print(\"No zero corssing found in the range = \", x_min,x_max)\n",
    "        s = 'f(%f) = %f,f(%f) = %f'% (x_min,y_min,x_max,y_max)\n",
    "        print(s)\n",
    "        return 0\n",
    "    \n",
    "    #if x_min is a root, then return flag == 1\n",
    "    if(np.fabs(y_min)<tol):    #test case 1 (left side)\n",
    "        return 1\n",
    "    \n",
    "    if(np.fabs(y_max)<tol):      #test case 2 (right side)\n",
    "        return 2\n",
    "    \n",
    "    return 3"
   ]
  },
  {
   "cell_type": "code",
   "execution_count": null,
   "metadata": {},
   "outputs": [],
   "source": [
    "def bisection_root_finding(f, x_min_start, x_max_start,tol):\n",
    "    x_min = x_min_start\n",
    "    x_max = x_max_start\n",
    "    x_mid = 0.0\n",
    "    \n",
    "    y_min = f(x_min)\n",
    "    y_max = f(x_max)\n",
    "    y_mid = (0.0)\n",
    "    \n",
    "    imax = 10000 # maximum # of iteration\n",
    "    i=0       #Starting\n",
    "    \n",
    "    flag = check_initial_values(f,x_min,x_max,tol)   #0,1,2,3 if 0 then not valet, \n",
    "    if(flag==0):\n",
    "        print(\"Error in bisection_root_finding().\")\n",
    "        raise ValueError(\"Initial Values invalid\", x_min, x_max)\n",
    "    elif(flag == 1):\n",
    "        return x_min\n",
    "    elif(flag ==2):\n",
    "        return x_max\n",
    "    # Setting a flag\n",
    "    flag = 1  #While as long as flag is not equal to zero\n",
    "\n",
    "    while(flag):\n",
    "        x_mid = 0.5*(x_min+x_max) # mid point\n",
    "        y_mid = f(x_mid) # x_mid; Function value\n",
    "    \n",
    "        if(np.fabs(y_mid)<tol):\n",
    "            flag = 0\n",
    "        else:\n",
    "            if(f(x_min)*f(x_mid)>0):\n",
    "                x_min = x_mid\n",
    "            else:\n",
    "                x_max = x_mid\n",
    "            \n",
    "        print(x_min,f(x_min),x_max,f(x_max))\n",
    "        \n",
    "        i+= 1\n",
    "\n",
    "        if(i>=imax):\n",
    "            print('Exceeded max number of iterations = ', i)\n",
    "            s = 'Min bracket f(%f) = %f' % (x_min,f(x_min))\n",
    "            print(s)\n",
    "            s = 'Max bracket f(%f) =%f' % (x_max,f(x_max))\n",
    "            print(s)\n",
    "            s = 'Mid bracket f(%f) = %f' % (x_mid,f(x_mid))\n",
    "            print(s)\n",
    "            raise StopIteration('Stopping iteration after ',i)\n",
    "    \n",
    "    return x_mid"
   ]
  },
  {
   "cell_type": "code",
   "execution_count": null,
   "metadata": {},
   "outputs": [],
   "source": [
    "x_min = 0.0  #1.5  Other check value\n",
    "x_max = 1.5  # 3.0    Other check value\n",
    "\n",
    "\n",
    "tolerance = 1.0e-6\n",
    "\n",
    "#print the initial guess\n",
    "print(x_min, function_for_roots(x_min))\n",
    "print(x_max, function_for_roots(x_max))\n",
    "\n",
    "x_root = bisection_root_finding(function_for_roots, x_min, x_max, tolerance)\n",
    "y_root = function_for_roots(x_root)\n",
    "\n",
    "s = \"Root found with y(%f) - %f\" % (x_root,y_root)\n",
    "print(s)"
   ]
  },
  {
   "cell_type": "code",
   "execution_count": null,
   "metadata": {},
   "outputs": [],
   "source": [
    "plt.figure(figsize = (15,10))\n",
    "x = np.linspace(0,3,1000)\n",
    "x_min_2 = 1.5\n",
    "x_max_2 =3.0\n",
    "x_root_2 = 1.969030\n",
    "\n",
    "w= 0*x\n",
    "plt.plot(x,function_for_roots(x),color='blue',label='function')\n",
    "plt.plot(x,w,color='Skyblue')\n",
    "\n",
    "#Plot for max value\n",
    "plt.plot(x_min,function_for_roots(x_min),color='r',marker='o', label='max')\n",
    "plt.plot(x_max_2,function_for_roots(x_max_2),color='r',marker='o')\n",
    "\n",
    "\n",
    "#Plot of main point\n",
    "plt.plot(x_max,function_for_roots(x_max),color='pink',marker='o', label='min')\n",
    "\n",
    "#Plots of the left and right roots\n",
    "plt.plot(x_root,y_root,color='orange',marker='o', label='Root')\n",
    "plt.plot(x_root_2,y_root,color='orange',marker='o')\n",
    "\n",
    "plt.xlabel(r'x' ,fontsize=16)\n",
    "plt.ylabel(r'y',fontsize=16)\n",
    "print('Converges at 20 iterations')\n",
    "plt.grid(color='lightgray')\n",
    "plt.xlim(0,3)\n",
    "plt.ylim(-0.5,2.1)\n",
    "plt.legend(fontsize = 'x-large')\n",
    "plt.show()"
   ]
  },
  {
   "cell_type": "code",
   "execution_count": null,
   "metadata": {},
   "outputs": [],
   "source": []
  },
  {
   "cell_type": "code",
   "execution_count": null,
   "metadata": {},
   "outputs": [],
   "source": []
  },
  {
   "cell_type": "code",
   "execution_count": null,
   "metadata": {},
   "outputs": [],
   "source": []
  },
  {
   "cell_type": "code",
   "execution_count": null,
   "metadata": {},
   "outputs": [],
   "source": []
  },
  {
   "cell_type": "code",
   "execution_count": null,
   "metadata": {},
   "outputs": [],
   "source": []
  },
  {
   "cell_type": "code",
   "execution_count": null,
   "metadata": {},
   "outputs": [],
   "source": []
  },
  {
   "cell_type": "code",
   "execution_count": null,
   "metadata": {},
   "outputs": [],
   "source": []
  },
  {
   "cell_type": "code",
   "execution_count": null,
   "metadata": {},
   "outputs": [],
   "source": []
  },
  {
   "cell_type": "code",
   "execution_count": null,
   "metadata": {},
   "outputs": [],
   "source": []
  },
  {
   "cell_type": "code",
   "execution_count": null,
   "metadata": {},
   "outputs": [],
   "source": []
  }
 ],
 "metadata": {
  "kernelspec": {
   "display_name": "Python 3",
   "language": "python",
   "name": "python3"
  },
  "language_info": {
   "codemirror_mode": {
    "name": "ipython",
    "version": 3
   },
   "file_extension": ".py",
   "mimetype": "text/x-python",
   "name": "python",
   "nbconvert_exporter": "python",
   "pygments_lexer": "ipython3",
   "version": "3.6.5"
  }
 },
 "nbformat": 4,
 "nbformat_minor": 2
}
